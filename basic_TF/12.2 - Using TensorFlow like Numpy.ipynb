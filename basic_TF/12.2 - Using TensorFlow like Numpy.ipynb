{
 "cells": [
  {
   "cell_type": "markdown",
   "id": "982a6ee5",
   "metadata": {},
   "source": [
    "이 내용은 [핸즈온 머신러닝](https://www.hanbit.co.kr/store/books/look.php?p_code=B7033438574)의 12장 \"텐서플로를 사용한 사용자 정의 모델과 훈련\"의 내용을 기반으로 작성한 코드입니다."
   ]
  },
  {
   "cell_type": "markdown",
   "id": "668f0585",
   "metadata": {},
   "source": [
    "# 12.2 넘파이처럼 텐서플로 사용하기"
   ]
  },
  {
   "cell_type": "code",
   "execution_count": 1,
   "id": "c3e24700",
   "metadata": {},
   "outputs": [],
   "source": [
    "import tensorflow as tf"
   ]
  },
  {
   "cell_type": "markdown",
   "id": "766cb094",
   "metadata": {},
   "source": [
    "### 1. 텐서와 연산"
   ]
  },
  {
   "cell_type": "code",
   "execution_count": 2,
   "id": "4545fd2e",
   "metadata": {},
   "outputs": [
    {
     "name": "stdout",
     "output_type": "stream",
     "text": [
      "Metal device set to: Apple M2 Pro\n"
     ]
    },
    {
     "data": {
      "text/plain": [
       "<tf.Tensor: shape=(2, 3), dtype=float32, numpy=\n",
       "array([[1., 2., 3.],\n",
       "       [4., 5., 6.]], dtype=float32)>"
      ]
     },
     "execution_count": 2,
     "metadata": {},
     "output_type": "execute_result"
    }
   ],
   "source": [
    "tf.constant([[1., 2., 3.], [4., 5., 6.]]) # 행렬"
   ]
  },
  {
   "cell_type": "code",
   "execution_count": null,
   "id": "dbf990c8",
   "metadata": {},
   "outputs": [],
   "source": []
  }
 ],
 "metadata": {
  "kernelspec": {
   "display_name": "Python 3 (ipykernel)",
   "language": "python",
   "name": "python3"
  },
  "language_info": {
   "codemirror_mode": {
    "name": "ipython",
    "version": 3
   },
   "file_extension": ".py",
   "mimetype": "text/x-python",
   "name": "python",
   "nbconvert_exporter": "python",
   "pygments_lexer": "ipython3",
   "version": "3.10.10"
  }
 },
 "nbformat": 4,
 "nbformat_minor": 5
}
