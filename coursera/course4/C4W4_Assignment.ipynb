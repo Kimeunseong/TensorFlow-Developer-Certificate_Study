{
 "cells": [
  {
   "cell_type": "markdown",
   "metadata": {},
   "source": [
    "# Week 4: Using real world data\n",
    "\n",
    "Welcome! So far you have worked exclusively with generated data. This time you will be using the [Daily Minimum Temperatures in Melbourne](https://github.com/jbrownlee/Datasets/blob/master/daily-min-temperatures.csv) dataset which contains data of the daily minimum temperatures recorded in Melbourne from 1981 to 1990. In addition to be using Tensorflow's layers for processing sequence data such as Recurrent layers or LSTMs you will also use Convolutional layers to improve the model's performance.\n",
    "\n",
    "Let's get started!"
   ]
  },
  {
   "cell_type": "markdown",
   "metadata": {},
   "source": [
    "_**NOTE:** To prevent errors from the autograder, you are not allowed to edit or delete some of the cells in this notebook . Please only put your solutions in between the `### START CODE HERE` and `### END CODE HERE` code comments, and also refrain from adding any new cells. **Once you have passed this assignment** and want to experiment with any of the locked cells, you may follow the instructions at the bottom of this notebook._"
   ]
  },
  {
   "cell_type": "code",
   "execution_count": 1,
   "metadata": {
    "colab": {
     "base_uri": "https://localhost:8080/"
    },
    "deletable": false,
    "editable": false,
    "id": "56XEQOGknrAk",
    "outputId": "6b8ab5ea-ed49-40d2-a27c-d2ba08710ba0"
   },
   "outputs": [],
   "source": [
    "import csv\n",
    "import pickle\n",
    "import numpy as np\n",
    "import tensorflow as tf\n",
    "import matplotlib.pyplot as plt\n",
    "from dataclasses import dataclass\n",
    "from absl import logging\n",
    "logging.set_verbosity(logging.ERROR)"
   ]
  },
  {
   "cell_type": "markdown",
   "metadata": {},
   "source": [
    "Begin by looking at the structure of the csv that contains the data:"
   ]
  },
  {
   "cell_type": "code",
   "execution_count": 2,
   "metadata": {
    "deletable": false,
    "editable": false
   },
   "outputs": [
    {
     "name": "stdout",
     "output_type": "stream",
     "text": [
      "Header looks like this:\n",
      "\n",
      "\"Date\",\"Temp\"\n",
      "\n",
      "First data point looks like this:\n",
      "\n",
      "\"1981-01-01\",20.7\n",
      "\n",
      "Second data point looks like this:\n",
      "\n",
      "\"1981-01-02\",17.9\n",
      "\n"
     ]
    }
   ],
   "source": [
    "TEMPERATURES_CSV = './data/daily-min-temperatures.csv'\n",
    "\n",
    "with open(TEMPERATURES_CSV, 'r') as csvfile:\n",
    "    print(f\"Header looks like this:\\n\\n{csvfile.readline()}\")    \n",
    "    print(f\"First data point looks like this:\\n\\n{csvfile.readline()}\")\n",
    "    print(f\"Second data point looks like this:\\n\\n{csvfile.readline()}\")"
   ]
  },
  {
   "cell_type": "markdown",
   "metadata": {},
   "source": [
    "As you can see, each data point is composed of the date and the recorded minimum temperature for that date.\n",
    "\n",
    "\n",
    "In the first exercise you will code a function to read the data from the csv but for now run the next cell to load a helper function to plot the time series."
   ]
  },
  {
   "cell_type": "code",
   "execution_count": 3,
   "metadata": {
    "deletable": false,
    "editable": false,
    "id": "sLl52leVp5wU"
   },
   "outputs": [],
   "source": [
    "def plot_series(time, series, format=\"-\", start=0, end=None):\n",
    "    plt.plot(time[start:end], series[start:end], format)\n",
    "    plt.xlabel(\"Time\")\n",
    "    plt.ylabel(\"Value\")\n",
    "    plt.grid(True)"
   ]
  },
  {
   "cell_type": "markdown",
   "metadata": {},
   "source": [
    "## Parsing the raw data\n",
    "Now you need to read the data from the csv file. To do so, complete the `parse_data_from_file` function.\n",
    "\n",
    "A couple of things to note:\n",
    "\n",
    "- You should omit the first line as the file contains headers.\n",
    "- There is no need to save the data points as numpy arrays, regular lists is fine.\n",
    "- To read from csv files use `csv.reader` by passing the appropriate arguments.\n",
    "- `csv.reader` returns an iterable that returns each row in every iteration. So the temperature can be accessed via row[1] and the date can be discarded.\n",
    "- The `times` list should contain every timestep (starting at zero), which is just a sequence of ordered numbers with the same length as the `temperatures` list.\n",
    "- The values of the `temperatures` should be of `float` type. You can use Python's built-in `float` function to ensure this."
   ]
  },
  {
   "cell_type": "code",
   "execution_count": 4,
   "metadata": {},
   "outputs": [
    {
     "data": {
      "text/html": [
       "<div>\n",
       "<style scoped>\n",
       "    .dataframe tbody tr th:only-of-type {\n",
       "        vertical-align: middle;\n",
       "    }\n",
       "\n",
       "    .dataframe tbody tr th {\n",
       "        vertical-align: top;\n",
       "    }\n",
       "\n",
       "    .dataframe thead th {\n",
       "        text-align: right;\n",
       "    }\n",
       "</style>\n",
       "<table border=\"1\" class=\"dataframe\">\n",
       "  <thead>\n",
       "    <tr style=\"text-align: right;\">\n",
       "      <th></th>\n",
       "      <th>Date</th>\n",
       "      <th>Temp</th>\n",
       "    </tr>\n",
       "  </thead>\n",
       "  <tbody>\n",
       "    <tr>\n",
       "      <th>0</th>\n",
       "      <td>1981-01-01</td>\n",
       "      <td>20.7</td>\n",
       "    </tr>\n",
       "    <tr>\n",
       "      <th>1</th>\n",
       "      <td>1981-01-02</td>\n",
       "      <td>17.9</td>\n",
       "    </tr>\n",
       "    <tr>\n",
       "      <th>2</th>\n",
       "      <td>1981-01-03</td>\n",
       "      <td>18.8</td>\n",
       "    </tr>\n",
       "    <tr>\n",
       "      <th>3</th>\n",
       "      <td>1981-01-04</td>\n",
       "      <td>14.6</td>\n",
       "    </tr>\n",
       "    <tr>\n",
       "      <th>4</th>\n",
       "      <td>1981-01-05</td>\n",
       "      <td>15.8</td>\n",
       "    </tr>\n",
       "    <tr>\n",
       "      <th>...</th>\n",
       "      <td>...</td>\n",
       "      <td>...</td>\n",
       "    </tr>\n",
       "    <tr>\n",
       "      <th>3645</th>\n",
       "      <td>1990-12-27</td>\n",
       "      <td>14.0</td>\n",
       "    </tr>\n",
       "    <tr>\n",
       "      <th>3646</th>\n",
       "      <td>1990-12-28</td>\n",
       "      <td>13.6</td>\n",
       "    </tr>\n",
       "    <tr>\n",
       "      <th>3647</th>\n",
       "      <td>1990-12-29</td>\n",
       "      <td>13.5</td>\n",
       "    </tr>\n",
       "    <tr>\n",
       "      <th>3648</th>\n",
       "      <td>1990-12-30</td>\n",
       "      <td>15.7</td>\n",
       "    </tr>\n",
       "    <tr>\n",
       "      <th>3649</th>\n",
       "      <td>1990-12-31</td>\n",
       "      <td>13.0</td>\n",
       "    </tr>\n",
       "  </tbody>\n",
       "</table>\n",
       "<p>3650 rows × 2 columns</p>\n",
       "</div>"
      ],
      "text/plain": [
       "            Date  Temp\n",
       "0     1981-01-01  20.7\n",
       "1     1981-01-02  17.9\n",
       "2     1981-01-03  18.8\n",
       "3     1981-01-04  14.6\n",
       "4     1981-01-05  15.8\n",
       "...          ...   ...\n",
       "3645  1990-12-27  14.0\n",
       "3646  1990-12-28  13.6\n",
       "3647  1990-12-29  13.5\n",
       "3648  1990-12-30  15.7\n",
       "3649  1990-12-31  13.0\n",
       "\n",
       "[3650 rows x 2 columns]"
      ]
     },
     "execution_count": 4,
     "metadata": {},
     "output_type": "execute_result"
    }
   ],
   "source": [
    "import pandas as pd\n",
    "\n",
    "df = pd.read_csv(TEMPERATURES_CSV)\n",
    "df"
   ]
  },
  {
   "cell_type": "code",
   "execution_count": 5,
   "metadata": {
    "colab": {
     "base_uri": "https://localhost:8080/",
     "height": 388
    },
    "deletable": false,
    "id": "NcG9r1eClbTh",
    "outputId": "7acf6ba9-e852-4f06-e06e-b0ff1b9e2ddd"
   },
   "outputs": [],
   "source": [
    "def parse_data_from_file(filename):\n",
    "    \n",
    "    times = []\n",
    "    temperatures = []\n",
    "\n",
    "    with open(filename) as csvfile:\n",
    "        \n",
    "        ### START CODE HERE\n",
    "        \n",
    "        reader = csv.reader(csvfile, delimiter=',')\n",
    "        next(reader)\n",
    "        \n",
    "        for row in reader:\n",
    "            times.append(row[0])\n",
    "            temperatures.append(float(row[1]))\n",
    "            \n",
    "        \n",
    "        ### END CODE HERE\n",
    "            \n",
    "    return times, temperatures"
   ]
  },
  {
   "cell_type": "markdown",
   "metadata": {},
   "source": [
    "The next cell will use your function to compute the `times` and `temperatures` and will save these as numpy arrays within the `G` dataclass. This cell will also plot the time series:"
   ]
  },
  {
   "cell_type": "code",
   "execution_count": 6,
   "metadata": {
    "deletable": false,
    "editable": false
   },
   "outputs": [
    {
     "data": {
      "image/png": "[encoded data removed]",
      "text/plain": [
       "<Figure size 720x432 with 1 Axes>"
      ]
     },
     "metadata": {
      "needs_background": "light"
     },
     "output_type": "display_data"
    }
   ],
   "source": [
    "# Test your function and save all \"global\" variables within the G class (G stands for global)\n",
    "@dataclass\n",
    "class G:\n",
    "    TEMPERATURES_CSV = './data/daily-min-temperatures.csv'\n",
    "    times, temperatures = parse_data_from_file(TEMPERATURES_CSV)\n",
    "    TIME = np.array(times)\n",
    "    SERIES = np.array(temperatures)\n",
    "    SPLIT_TIME = 2500\n",
    "    WINDOW_SIZE = 64\n",
    "    BATCH_SIZE = 32\n",
    "    SHUFFLE_BUFFER_SIZE = 1000\n",
    "\n",
    "\n",
    "plt.figure(figsize=(10, 6))\n",
    "plot_series(G.TIME, G.SERIES)\n",
    "plt.show()"
   ]
  },
  {
   "cell_type": "markdown",
   "metadata": {},
   "source": [
    "**Expected Output:**\n",
    "<div>\n",
    "<img src=\"images/temp-series.png\" width=\"500\"/>\n",
    "</div>"
   ]
  },
  {
   "cell_type": "markdown",
   "metadata": {},
   "source": [
    "## Processing the data\n",
    "\n",
    "Since you already coded the `train_val_split` and `windowed_dataset` functions during past week's assignments, this time they are provided for you:"
   ]
  },
  {
   "cell_type": "code",
   "execution_count": 7,
   "metadata": {
    "deletable": false,
    "editable": false
   },
   "outputs": [],
   "source": [
    "def train_val_split(time, series, time_step=G.SPLIT_TIME):\n",
    "\n",
    "    time_train = time[:time_step]\n",
    "    series_train = series[:time_step]\n",
    "    time_valid = time[time_step:]\n",
    "    series_valid = series[time_step:]\n",
    "\n",
    "    return time_train, series_train, time_valid, series_valid\n",
    "\n",
    "\n",
    "# Split the dataset\n",
    "time_train, series_train, time_valid, series_valid = train_val_split(G.TIME, G.SERIES)"
   ]
  },
  {
   "cell_type": "code",
   "execution_count": 8,
   "metadata": {
    "deletable": false,
    "editable": false,
    "id": "lJwUUZscnG38"
   },
   "outputs": [],
   "source": [
    "def windowed_dataset(series, window_size=G.WINDOW_SIZE, batch_size=G.BATCH_SIZE, shuffle_buffer=G.SHUFFLE_BUFFER_SIZE):\n",
    "    ds = tf.data.Dataset.from_tensor_slices(series)\n",
    "    ds = ds.window(window_size + 1, shift=1, drop_remainder=True)\n",
    "    ds = ds.flat_map(lambda w: w.batch(window_size + 1))\n",
    "    ds = ds.shuffle(shuffle_buffer)\n",
    "    ds = ds.map(lambda w: (w[:-1], w[-1]))\n",
    "    ds = ds.batch(batch_size).prefetch(1)\n",
    "    return ds\n",
    "\n",
    "\n",
    "# Apply the transformation to the training set\n",
    "train_set = windowed_dataset(series_train, window_size=G.WINDOW_SIZE, batch_size=G.BATCH_SIZE, shuffle_buffer=G.SHUFFLE_BUFFER_SIZE)"
   ]
  },
  {
   "cell_type": "markdown",
   "metadata": {},
   "source": [
    "## Defining the model architecture\n",
    "\n",
    "Now that you have a function that will process the data before it is fed into your neural network for training, it is time to define your layer architecture. Just as in last week's assignment you will do the layer definition and compilation in two separate steps. Begin by completing the `create_uncompiled_model` function below.\n",
    "\n",
    "This is done so you can reuse your model's layers for the learning rate adjusting and the actual training.\n",
    "\n",
    "Hint:\n",
    "\n",
    "- `Lambda` layers are not required.\n",
    "- Use a combination of `Conv1D` and `LSTM` layers followed by `Dense` layers"
   ]
  },
  {
   "cell_type": "code",
   "execution_count": 15,
   "metadata": {
    "deletable": false
   },
   "outputs": [],
   "source": [
    "def create_uncompiled_model():\n",
    "\n",
    "    ### START CODE HERE\n",
    "    \n",
    "    model = tf.keras.models.Sequential([ \n",
    "        tf.keras.layers.Conv1D(filters=64, kernel_size=3,\n",
    "                      strides=1,\n",
    "                      activation=\"relu\",\n",
    "                      padding='causal',\n",
    "                      input_shape=[None, 1]),\n",
    "        tf.keras.layers.LSTM(64, return_sequences=True),\n",
    "        tf.keras.layers.LSTM(64),\n",
    "        tf.keras.layers.Dense(30, activation=\"relu\"),\n",
    "        tf.keras.layers.Dense(10, activation=\"relu\"),\n",
    "        tf.keras.layers.Dense(1)\n",
    "    ]) \n",
    "    \n",
    "    ### END CODE HERE\n",
    "\n",
    "    return model"
   ]
  },
  {
   "cell_type": "markdown",
   "metadata": {},
   "source": [
    "You can test your model with the code below. If you get an error, it's likely that your model is returning a sequence. You can indeed use an LSTM with `return_sequences=True` but you have to feed it into another layer that generates a single prediction. You can review the lectures or the previous ungraded labs to see how that is done."
   ]
  },
  {
   "cell_type": "code",
   "execution_count": 16,
   "metadata": {
    "deletable": false,
    "editable": false
   },
   "outputs": [
    {
     "name": "stdout",
     "output_type": "stream",
     "text": [
      "Testing model prediction with input of shape (32, 64)...\n",
      "Your current architecture is compatible with the windowed dataset! :)\n"
     ]
    }
   ],
   "source": [
    "# Test your uncompiled model\n",
    "\n",
    "# Create an instance of the model\n",
    "uncompiled_model = create_uncompiled_model()\n",
    "\n",
    "# Get one batch of the training set(X = input, y = label)\n",
    "for X, y in train_set.take(1):\n",
    "    \n",
    "    # Generate a prediction\n",
    "    print(f'Testing model prediction with input of shape {X.shape}...')\n",
    "    y_pred = uncompiled_model.predict(X)\n",
    "    \n",
    "# Compare the shape of the prediction and the label y (remove dimensions of size 1)\n",
    "y_pred_shape = y_pred.squeeze().shape\n",
    "\n",
    "assert y_pred_shape == y.shape, (f'Squeezed predicted y shape = {y_pred_shape} '\n",
    "                                           f'whereas actual y shape = {y.shape}.')\n",
    "\n",
    "print(\"Your current architecture is compatible with the windowed dataset! :)\")"
   ]
  },
  {
   "cell_type": "markdown",
   "metadata": {},
   "source": [
    "## Adjusting the learning rate - (Optional Exercise)\n",
    "\n",
    "As you saw in the lectures, you can leverage Tensorflow's callbacks to dynamically vary the learning rate before doing the actual training. This can be helpful in finding what value works best with your model. Note that this is only one way of finding the best learning rate. There are other techniques for hyperparameter optimization but it is outside the scope of this course.\n",
    "\n",
    "For the optimizers you can try out:\n",
    "\n",
    "- tf.keras.optimizers.Adam\n",
    "- tf.keras.optimizers.SGD with a momentum of 0.9"
   ]
  },
  {
   "cell_type": "code",
   "execution_count": 19,
   "metadata": {
    "deletable": false
   },
   "outputs": [],
   "source": [
    "def adjust_learning_rate(dataset):\n",
    "    \n",
    "    model = create_uncompiled_model()\n",
    "    \n",
    "    lr_schedule = tf.keras.callbacks.LearningRateScheduler(lambda epoch: 1e-4 * 10**(epoch / 20))\n",
    "    \n",
    "    ### START CODE HERE\n",
    "    \n",
    "    # Select your optimizer\n",
    "    optimizer = tf.keras.optimizers.SGD(momentum=0.9)\n",
    "    \n",
    "    # Compile the model passing in the appropriate loss\n",
    "    model.compile(loss=tf.keras.losses.Huber(),\n",
    "                  optimizer=optimizer, \n",
    "                  metrics=[\"mae\"]) \n",
    "    \n",
    "    ### END CODE HERE\n",
    "    \n",
    "    history = model.fit(dataset, epochs=100, callbacks=[lr_schedule])\n",
    "    \n",
    "    return history"
   ]
  },
  {
   "cell_type": "code",
   "execution_count": 20,
   "metadata": {
    "deletable": false,
    "editable": false,
    "scrolled": true
   },
   "outputs": [
    {
     "name": "stdout",
     "output_type": "stream",
     "text": [
      "Epoch 1/100\n",
      "77/77 [==============================] - 12s 108ms/step - loss: 10.0314 - mae: 10.5301 - lr: 1.0000e-04\n",
      "Epoch 2/100\n",
      "77/77 [==============================] - 6s 78ms/step - loss: 9.5669 - mae: 10.0654 - lr: 1.1220e-04\n",
      "Epoch 3/100\n",
      "77/77 [==============================] - 6s 78ms/step - loss: 8.7443 - mae: 9.2424 - lr: 1.2589e-04\n",
      "Epoch 4/100\n",
      "77/77 [==============================] - 6s 77ms/step - loss: 6.2265 - mae: 6.7163 - lr: 1.4125e-04\n",
      "Epoch 5/100\n",
      "77/77 [==============================] - 6s 79ms/step - loss: 2.6769 - mae: 3.1432 - lr: 1.5849e-04\n",
      "Epoch 6/100\n",
      "77/77 [==============================] - 6s 78ms/step - loss: 2.2101 - mae: 2.6676 - lr: 1.7783e-04\n",
      "Epoch 7/100\n",
      "77/77 [==============================] - 6s 78ms/step - loss: 2.0304 - mae: 2.4858 - lr: 1.9953e-04\n",
      "Epoch 8/100\n",
      "77/77 [==============================] - 6s 77ms/step - loss: 1.8318 - mae: 2.2847 - lr: 2.2387e-04\n",
      "Epoch 9/100\n",
      "77/77 [==============================] - 6s 76ms/step - loss: 1.8182 - mae: 2.2690 - lr: 2.5119e-04\n",
      "Epoch 10/100\n",
      "77/77 [==============================] - 6s 78ms/step - loss: 1.7929 - mae: 2.2458 - lr: 2.8184e-04\n",
      "Epoch 11/100\n",
      "77/77 [==============================] - 6s 77ms/step - loss: 1.8016 - mae: 2.2496 - lr: 3.1623e-04\n",
      "Epoch 12/100\n",
      "77/77 [==============================] - 6s 79ms/step - loss: 1.7680 - mae: 2.2167 - lr: 3.5481e-04\n",
      "Epoch 13/100\n",
      "77/77 [==============================] - 6s 79ms/step - loss: 1.7390 - mae: 2.1913 - lr: 3.9811e-04\n",
      "Epoch 14/100\n",
      "77/77 [==============================] - 6s 78ms/step - loss: 1.7971 - mae: 2.2482 - lr: 4.4668e-04\n",
      "Epoch 15/100\n",
      "77/77 [==============================] - 6s 78ms/step - loss: 1.7382 - mae: 2.1866 - lr: 5.0119e-04\n",
      "Epoch 16/100\n",
      "77/77 [==============================] - 6s 78ms/step - loss: 1.6994 - mae: 2.1472 - lr: 5.6234e-04\n",
      "Epoch 17/100\n",
      "77/77 [==============================] - 6s 79ms/step - loss: 1.7507 - mae: 2.2028 - lr: 6.3096e-04\n",
      "Epoch 18/100\n",
      "77/77 [==============================] - 6s 77ms/step - loss: 1.6787 - mae: 2.1266 - lr: 7.0795e-04\n",
      "Epoch 19/100\n",
      "77/77 [==============================] - 6s 78ms/step - loss: 1.6484 - mae: 2.0957 - lr: 7.9433e-04\n",
      "Epoch 20/100\n",
      "77/77 [==============================] - 6s 78ms/step - loss: 1.6108 - mae: 2.0556 - lr: 8.9125e-04\n",
      "Epoch 21/100\n",
      "77/77 [==============================] - 6s 76ms/step - loss: 1.6316 - mae: 2.0799 - lr: 0.0010\n",
      "Epoch 22/100\n",
      "77/77 [==============================] - 6s 78ms/step - loss: 1.6000 - mae: 2.0482 - lr: 0.0011\n",
      "Epoch 23/100\n",
      "77/77 [==============================] - 6s 77ms/step - loss: 1.6170 - mae: 2.0621 - lr: 0.0013\n",
      "Epoch 24/100\n",
      "77/77 [==============================] - 6s 75ms/step - loss: 1.5617 - mae: 2.0062 - lr: 0.0014\n",
      "Epoch 25/100\n",
      "77/77 [==============================] - 6s 76ms/step - loss: 1.5788 - mae: 2.0265 - lr: 0.0016\n",
      "Epoch 26/100\n",
      "77/77 [==============================] - 6s 78ms/step - loss: 1.6598 - mae: 2.1078 - lr: 0.0018\n",
      "Epoch 27/100\n",
      "77/77 [==============================] - 6s 77ms/step - loss: 1.6112 - mae: 2.0589 - lr: 0.0020\n",
      "Epoch 28/100\n",
      "77/77 [==============================] - 6s 76ms/step - loss: 1.6929 - mae: 2.1430 - lr: 0.0022\n",
      "Epoch 29/100\n",
      "77/77 [==============================] - 6s 75ms/step - loss: 1.6245 - mae: 2.0705 - lr: 0.0025\n",
      "Epoch 30/100\n",
      "77/77 [==============================] - 6s 74ms/step - loss: 1.5917 - mae: 2.0395 - lr: 0.0028\n",
      "Epoch 31/100\n",
      "77/77 [==============================] - 6s 73ms/step - loss: 1.6401 - mae: 2.0843 - lr: 0.0032\n",
      "Epoch 32/100\n",
      "77/77 [==============================] - 6s 75ms/step - loss: 1.5887 - mae: 2.0338 - lr: 0.0035\n",
      "Epoch 33/100\n",
      "77/77 [==============================] - 6s 75ms/step - loss: 1.5600 - mae: 2.0068 - lr: 0.0040\n",
      "Epoch 34/100\n",
      "77/77 [==============================] - 6s 81ms/step - loss: 1.6540 - mae: 2.0996 - lr: 0.0045\n",
      "Epoch 35/100\n",
      "77/77 [==============================] - 7s 83ms/step - loss: 1.6593 - mae: 2.1059 - lr: 0.0050\n",
      "Epoch 36/100\n",
      "77/77 [==============================] - 6s 78ms/step - loss: 1.6143 - mae: 2.0603 - lr: 0.0056\n",
      "Epoch 37/100\n",
      "77/77 [==============================] - 6s 78ms/step - loss: 1.6168 - mae: 2.0646 - lr: 0.0063\n",
      "Epoch 38/100\n",
      "77/77 [==============================] - 6s 77ms/step - loss: 1.7886 - mae: 2.2387 - lr: 0.0071\n",
      "Epoch 39/100\n",
      "77/77 [==============================] - 6s 76ms/step - loss: 1.7079 - mae: 2.1577 - lr: 0.0079\n",
      "Epoch 40/100\n",
      "77/77 [==============================] - 6s 77ms/step - loss: 1.6874 - mae: 2.1339 - lr: 0.0089\n",
      "Epoch 41/100\n",
      "77/77 [==============================] - 6s 77ms/step - loss: 1.6786 - mae: 2.1225 - lr: 0.0100\n",
      "Epoch 42/100\n",
      "77/77 [==============================] - 6s 78ms/step - loss: 1.7109 - mae: 2.1611 - lr: 0.0112\n",
      "Epoch 43/100\n",
      "77/77 [==============================] - 6s 77ms/step - loss: 1.8460 - mae: 2.2973 - lr: 0.0126\n",
      "Epoch 44/100\n",
      "77/77 [==============================] - 6s 81ms/step - loss: 1.8331 - mae: 2.2850 - lr: 0.0141\n",
      "Epoch 45/100\n",
      "77/77 [==============================] - 6s 80ms/step - loss: 1.6731 - mae: 2.1224 - lr: 0.0158\n",
      "Epoch 46/100\n",
      "77/77 [==============================] - 6s 79ms/step - loss: 1.8145 - mae: 2.2652 - lr: 0.0178\n",
      "Epoch 47/100\n",
      "77/77 [==============================] - 6s 78ms/step - loss: 1.6341 - mae: 2.0787 - lr: 0.0200\n",
      "Epoch 48/100\n",
      "77/77 [==============================] - 7s 86ms/step - loss: 1.7735 - mae: 2.2246 - lr: 0.0224\n",
      "Epoch 49/100\n",
      "77/77 [==============================] - 6s 81ms/step - loss: 1.8703 - mae: 2.3241 - lr: 0.0251\n",
      "Epoch 50/100\n",
      "77/77 [==============================] - 6s 77ms/step - loss: 2.3641 - mae: 2.8237 - lr: 0.0282\n",
      "Epoch 51/100\n",
      "77/77 [==============================] - 6s 74ms/step - loss: 1.9451 - mae: 2.3958 - lr: 0.0316\n",
      "Epoch 52/100\n",
      "77/77 [==============================] - 6s 74ms/step - loss: 2.2630 - mae: 2.7203 - lr: 0.0355\n",
      "Epoch 53/100\n",
      "77/77 [==============================] - 6s 76ms/step - loss: 2.1555 - mae: 2.6151 - lr: 0.0398\n",
      "Epoch 54/100\n",
      "77/77 [==============================] - 6s 74ms/step - loss: 1.9076 - mae: 2.3597 - lr: 0.0447\n",
      "Epoch 55/100\n",
      "77/77 [==============================] - 6s 75ms/step - loss: 1.8988 - mae: 2.3496 - lr: 0.0501\n",
      "Epoch 56/100\n",
      "77/77 [==============================] - 6s 76ms/step - loss: 1.9944 - mae: 2.4508 - lr: 0.0562\n",
      "Epoch 57/100\n",
      "77/77 [==============================] - 6s 75ms/step - loss: 1.9794 - mae: 2.4325 - lr: 0.0631\n",
      "Epoch 58/100\n",
      "77/77 [==============================] - 6s 74ms/step - loss: 1.9290 - mae: 2.3831 - lr: 0.0708\n",
      "Epoch 59/100\n",
      "77/77 [==============================] - 6s 75ms/step - loss: 2.6781 - mae: 3.1420 - lr: 0.0794\n",
      "Epoch 60/100\n",
      "77/77 [==============================] - 6s 75ms/step - loss: 2.7286 - mae: 3.1951 - lr: 0.0891\n",
      "Epoch 61/100\n",
      "77/77 [==============================] - 6s 75ms/step - loss: 2.6454 - mae: 3.1103 - lr: 0.1000\n",
      "Epoch 62/100\n",
      "77/77 [==============================] - 6s 72ms/step - loss: 2.7119 - mae: 3.1793 - lr: 0.1122\n",
      "Epoch 63/100\n",
      "77/77 [==============================] - 6s 73ms/step - loss: 2.7216 - mae: 3.1887 - lr: 0.1259\n",
      "Epoch 64/100\n",
      "77/77 [==============================] - 6s 71ms/step - loss: 2.7218 - mae: 3.1878 - lr: 0.1413\n",
      "Epoch 65/100\n",
      "77/77 [==============================] - 6s 73ms/step - loss: 2.7300 - mae: 3.1962 - lr: 0.1585\n",
      "Epoch 66/100\n",
      "77/77 [==============================] - 6s 72ms/step - loss: 2.7290 - mae: 3.1942 - lr: 0.1778\n",
      "Epoch 67/100\n",
      "77/77 [==============================] - 6s 73ms/step - loss: 2.7293 - mae: 3.1957 - lr: 0.1995\n",
      "Epoch 68/100\n",
      "77/77 [==============================] - 6s 72ms/step - loss: 2.7279 - mae: 3.1940 - lr: 0.2239\n",
      "Epoch 69/100\n",
      "77/77 [==============================] - 6s 72ms/step - loss: 2.7386 - mae: 3.2077 - lr: 0.2512\n",
      "Epoch 70/100\n",
      "77/77 [==============================] - 6s 71ms/step - loss: 2.7429 - mae: 3.2097 - lr: 0.2818\n",
      "Epoch 71/100\n",
      "77/77 [==============================] - 6s 73ms/step - loss: 2.7306 - mae: 3.1955 - lr: 0.3162\n",
      "Epoch 72/100\n",
      "77/77 [==============================] - 6s 72ms/step - loss: 2.7626 - mae: 3.2277 - lr: 0.3548\n",
      "Epoch 73/100\n",
      "77/77 [==============================] - 6s 72ms/step - loss: 2.7466 - mae: 3.2123 - lr: 0.3981\n",
      "Epoch 74/100\n",
      "77/77 [==============================] - 6s 75ms/step - loss: 2.7575 - mae: 3.2248 - lr: 0.4467\n",
      "Epoch 75/100\n",
      "77/77 [==============================] - 6s 74ms/step - loss: 2.7526 - mae: 3.2200 - lr: 0.5012\n",
      "Epoch 76/100\n",
      "77/77 [==============================] - 6s 73ms/step - loss: 2.7386 - mae: 3.2040 - lr: 0.5623\n",
      "Epoch 77/100\n",
      "77/77 [==============================] - 6s 72ms/step - loss: 2.7591 - mae: 3.2263 - lr: 0.6310\n",
      "Epoch 78/100\n",
      "77/77 [==============================] - 6s 72ms/step - loss: 2.7887 - mae: 3.2572 - lr: 0.7079\n",
      "Epoch 79/100\n",
      "77/77 [==============================] - 6s 70ms/step - loss: 2.7719 - mae: 3.2407 - lr: 0.7943\n",
      "Epoch 80/100\n",
      "77/77 [==============================] - 6s 71ms/step - loss: 2.7506 - mae: 3.2179 - lr: 0.8913\n",
      "Epoch 81/100\n",
      "77/77 [==============================] - 6s 73ms/step - loss: 2.8065 - mae: 3.2720 - lr: 1.0000\n",
      "Epoch 82/100\n",
      "77/77 [==============================] - 6s 71ms/step - loss: 2.7846 - mae: 3.2534 - lr: 1.1220\n",
      "Epoch 83/100\n",
      "77/77 [==============================] - 6s 73ms/step - loss: 2.8317 - mae: 3.2983 - lr: 1.2589\n",
      "Epoch 84/100\n",
      "77/77 [==============================] - 6s 71ms/step - loss: 2.7706 - mae: 3.2383 - lr: 1.4125\n",
      "Epoch 85/100\n",
      "77/77 [==============================] - 5s 69ms/step - loss: 2.8501 - mae: 3.3193 - lr: 1.5849\n",
      "Epoch 86/100\n",
      "77/77 [==============================] - 6s 71ms/step - loss: 2.8331 - mae: 3.3018 - lr: 1.7783\n",
      "Epoch 87/100\n",
      "77/77 [==============================] - 5s 70ms/step - loss: 2.7937 - mae: 3.2608 - lr: 1.9953\n",
      "Epoch 88/100\n",
      "77/77 [==============================] - 5s 70ms/step - loss: 3.0490 - mae: 3.5172 - lr: 2.2387\n",
      "Epoch 89/100\n",
      "77/77 [==============================] - 6s 71ms/step - loss: 3.0926 - mae: 3.5645 - lr: 2.5119\n",
      "Epoch 90/100\n",
      "77/77 [==============================] - 5s 70ms/step - loss: 2.8845 - mae: 3.3533 - lr: 2.8184\n",
      "Epoch 91/100\n",
      "77/77 [==============================] - 6s 72ms/step - loss: 2.8956 - mae: 3.3660 - lr: 3.1623\n",
      "Epoch 92/100\n",
      "77/77 [==============================] - 6s 71ms/step - loss: 2.9313 - mae: 3.4013 - lr: 3.5481\n",
      "Epoch 93/100\n",
      "77/77 [==============================] - 6s 71ms/step - loss: 2.9260 - mae: 3.3950 - lr: 3.9811\n",
      "Epoch 94/100\n",
      "77/77 [==============================] - 6s 73ms/step - loss: 2.9958 - mae: 3.4668 - lr: 4.4668\n",
      "Epoch 95/100\n",
      "77/77 [==============================] - 6s 73ms/step - loss: 3.0454 - mae: 3.5133 - lr: 5.0119\n",
      "Epoch 96/100\n",
      "77/77 [==============================] - 6s 70ms/step - loss: 3.4825 - mae: 3.9568 - lr: 5.6234\n",
      "Epoch 97/100\n",
      "77/77 [==============================] - 6s 72ms/step - loss: 3.6476 - mae: 4.1225 - lr: 6.3096\n",
      "Epoch 98/100\n",
      "77/77 [==============================] - 6s 70ms/step - loss: 3.6403 - mae: 4.1142 - lr: 7.0795\n",
      "Epoch 99/100\n",
      "77/77 [==============================] - 5s 70ms/step - loss: 3.9424 - mae: 4.4188 - lr: 7.9433\n",
      "Epoch 100/100\n",
      "77/77 [==============================] - 6s 72ms/step - loss: 4.1299 - mae: 4.6071 - lr: 8.9125\n"
     ]
    }
   ],
   "source": [
    "# Run the training with dynamic LR\n",
    "lr_history = adjust_learning_rate(train_set)"
   ]
  },
  {
   "cell_type": "code",
   "execution_count": 21,
   "metadata": {
    "colab": {
     "base_uri": "https://localhost:8080/",
     "height": 290
    },
    "deletable": false,
    "editable": false,
    "id": "vVcKmg7Q_7rD",
    "outputId": "27cf16ae-eb85-47c3-fc86-18e72e528619"
   },
   "outputs": [
    {
     "data": {
      "text/plain": [
       "(0.0001, 10.0, 0.0, 10.0)"
      ]
     },
     "execution_count": 21,
     "metadata": {},
     "output_type": "execute_result"
    },
    {
     "data": {
      "image/png": "[encoded data removed]",
      "text/plain": [
       "<Figure size 432x288 with 1 Axes>"
      ]
     },
     "metadata": {
      "needs_background": "light"
     },
     "output_type": "display_data"
    }
   ],
   "source": [
    "plt.semilogx(lr_history.history[\"lr\"], lr_history.history[\"loss\"])\n",
    "plt.axis([1e-4, 10, 0, 10])"
   ]
  },
  {
   "cell_type": "markdown",
   "metadata": {},
   "source": [
    "## Compiling the model\n",
    "Now that you have trained the model while varying the learning rate, it is time to do the actual training that will be used to forecast the time series. For this complete the `create_model` function below.\n",
    "\n",
    "Notice that you are reusing the architecture you defined in the `create_uncompiled_model` earlier. Now you only need to compile this model using the appropriate loss, optimizer (and learning rate).\n",
    "\n",
    "Hints:\n",
    "\n",
    "- The training should be really quick so if you notice that each epoch is taking more than a few seconds, consider trying a different architecture.\n",
    "\n",
    "\n",
    "- If after the first epoch you get an output like this: loss: nan - mae: nan it is very likely that your network is suffering from exploding gradients. This is a common problem if you used SGD as optimizer and set a learning rate that is too high. If you encounter this problem consider lowering the learning rate or using Adam with the default learning rate."
   ]
  },
  {
   "cell_type": "code",
   "execution_count": 22,
   "metadata": {
    "deletable": false
   },
   "outputs": [],
   "source": [
    "def create_model():\n",
    "\n",
    "    \n",
    "    model = create_uncompiled_model()\n",
    "\n",
    "    ### START CODE HERE\n",
    "\n",
    "    model.compile(loss=tf.keras.losses.Huber(),\n",
    "                  optimizer='adam',\n",
    "                  metrics=[\"mae\"])  \n",
    "    \n",
    "\n",
    "    ### END CODE HERE\n",
    "\n",
    "    return model"
   ]
  },
  {
   "cell_type": "code",
   "execution_count": 23,
   "metadata": {
    "deletable": false,
    "scrolled": true
   },
   "outputs": [
    {
     "name": "stdout",
     "output_type": "stream",
     "text": [
      "Epoch 1/50\n",
      "77/77 [==============================] - 12s 110ms/step - loss: 3.6158 - mae: 4.0867\n",
      "Epoch 2/50\n",
      "77/77 [==============================] - 6s 79ms/step - loss: 1.8661 - mae: 2.3136\n",
      "Epoch 3/50\n",
      "77/77 [==============================] - 6s 78ms/step - loss: 1.6318 - mae: 2.0820\n",
      "Epoch 4/50\n",
      "77/77 [==============================] - 6s 78ms/step - loss: 1.5928 - mae: 2.0365\n",
      "Epoch 5/50\n",
      "77/77 [==============================] - 6s 78ms/step - loss: 1.5317 - mae: 1.9745\n",
      "Epoch 6/50\n",
      "77/77 [==============================] - 6s 76ms/step - loss: 1.5553 - mae: 2.0017\n",
      "Epoch 7/50\n",
      "77/77 [==============================] - 6s 77ms/step - loss: 1.5030 - mae: 1.9470\n",
      "Epoch 8/50\n",
      "77/77 [==============================] - 6s 75ms/step - loss: 1.5011 - mae: 1.9425\n",
      "Epoch 9/50\n",
      "77/77 [==============================] - 6s 74ms/step - loss: 1.5008 - mae: 1.9428\n",
      "Epoch 10/50\n",
      "77/77 [==============================] - 6s 75ms/step - loss: 1.5330 - mae: 1.9749\n",
      "Epoch 11/50\n",
      "77/77 [==============================] - 6s 74ms/step - loss: 1.4999 - mae: 1.9440\n",
      "Epoch 12/50\n",
      "77/77 [==============================] - 6s 74ms/step - loss: 1.4953 - mae: 1.9343\n",
      "Epoch 13/50\n",
      "77/77 [==============================] - 6s 74ms/step - loss: 1.4820 - mae: 1.9234\n",
      "Epoch 14/50\n",
      "77/77 [==============================] - 6s 75ms/step - loss: 1.4757 - mae: 1.9144\n",
      "Epoch 15/50\n",
      "77/77 [==============================] - 6s 79ms/step - loss: 1.4740 - mae: 1.9108\n",
      "Epoch 16/50\n",
      "77/77 [==============================] - 6s 76ms/step - loss: 1.4784 - mae: 1.9177\n",
      "Epoch 17/50\n",
      "77/77 [==============================] - 6s 75ms/step - loss: 1.4787 - mae: 1.9179\n",
      "Epoch 18/50\n",
      "77/77 [==============================] - 6s 76ms/step - loss: 1.4692 - mae: 1.9095\n",
      "Epoch 19/50\n",
      "77/77 [==============================] - 6s 75ms/step - loss: 1.4761 - mae: 1.9198\n",
      "Epoch 20/50\n",
      "77/77 [==============================] - 6s 76ms/step - loss: 1.4728 - mae: 1.9099\n",
      "Epoch 21/50\n",
      "77/77 [==============================] - 6s 76ms/step - loss: 1.4780 - mae: 1.9186\n",
      "Epoch 22/50\n",
      "77/77 [==============================] - 6s 76ms/step - loss: 1.4590 - mae: 1.8957\n",
      "Epoch 23/50\n",
      "77/77 [==============================] - 6s 76ms/step - loss: 1.4848 - mae: 1.9256\n",
      "Epoch 24/50\n",
      "77/77 [==============================] - 6s 75ms/step - loss: 1.4585 - mae: 1.8972\n",
      "Epoch 25/50\n",
      "77/77 [==============================] - 6s 78ms/step - loss: 1.4748 - mae: 1.9094\n",
      "Epoch 26/50\n",
      "77/77 [==============================] - 6s 75ms/step - loss: 1.4968 - mae: 1.9359\n",
      "Epoch 27/50\n",
      "77/77 [==============================] - 6s 74ms/step - loss: 1.4696 - mae: 1.9068\n",
      "Epoch 28/50\n",
      "77/77 [==============================] - 6s 75ms/step - loss: 1.4641 - mae: 1.9041\n",
      "Epoch 29/50\n",
      "77/77 [==============================] - 6s 74ms/step - loss: 1.4744 - mae: 1.9151\n",
      "Epoch 30/50\n",
      "77/77 [==============================] - 6s 76ms/step - loss: 1.4558 - mae: 1.8953\n",
      "Epoch 31/50\n",
      "77/77 [==============================] - 6s 76ms/step - loss: 1.4616 - mae: 1.8996\n",
      "Epoch 32/50\n",
      "77/77 [==============================] - 6s 74ms/step - loss: 1.5015 - mae: 1.9412\n",
      "Epoch 33/50\n",
      "77/77 [==============================] - 6s 73ms/step - loss: 1.4424 - mae: 1.8780\n",
      "Epoch 34/50\n",
      "77/77 [==============================] - 6s 72ms/step - loss: 1.4669 - mae: 1.9042\n",
      "Epoch 35/50\n",
      "77/77 [==============================] - 6s 73ms/step - loss: 1.4510 - mae: 1.8873\n",
      "Epoch 36/50\n",
      "77/77 [==============================] - 6s 72ms/step - loss: 1.4520 - mae: 1.8879\n",
      "Epoch 37/50\n",
      "77/77 [==============================] - 6s 74ms/step - loss: 1.4653 - mae: 1.9048\n",
      "Epoch 38/50\n",
      "77/77 [==============================] - 6s 75ms/step - loss: 1.4510 - mae: 1.8886\n",
      "Epoch 39/50\n",
      "77/77 [==============================] - 6s 73ms/step - loss: 1.4625 - mae: 1.8982\n",
      "Epoch 40/50\n",
      "77/77 [==============================] - 6s 73ms/step - loss: 1.4521 - mae: 1.8884\n",
      "Epoch 41/50\n",
      "77/77 [==============================] - 6s 73ms/step - loss: 1.5083 - mae: 1.9468\n",
      "Epoch 42/50\n",
      "77/77 [==============================] - 6s 72ms/step - loss: 1.4681 - mae: 1.9074\n",
      "Epoch 43/50\n",
      "77/77 [==============================] - 6s 73ms/step - loss: 1.4752 - mae: 1.9143\n",
      "Epoch 44/50\n",
      "77/77 [==============================] - 6s 73ms/step - loss: 1.4381 - mae: 1.8739\n",
      "Epoch 45/50\n",
      "77/77 [==============================] - 6s 74ms/step - loss: 1.4521 - mae: 1.8896\n",
      "Epoch 46/50\n",
      "77/77 [==============================] - 6s 73ms/step - loss: 1.4484 - mae: 1.8852\n",
      "Epoch 47/50\n",
      "77/77 [==============================] - 6s 72ms/step - loss: 1.4452 - mae: 1.8791\n",
      "Epoch 48/50\n",
      "77/77 [==============================] - 6s 73ms/step - loss: 1.4526 - mae: 1.8895\n",
      "Epoch 49/50\n",
      "77/77 [==============================] - 6s 74ms/step - loss: 1.4794 - mae: 1.9156\n",
      "Epoch 50/50\n",
      "77/77 [==============================] - 6s 73ms/step - loss: 1.4500 - mae: 1.8876\n"
     ]
    }
   ],
   "source": [
    "# Save an instance of the model\n",
    "model = create_model()\n",
    "\n",
    "# Train it\n",
    "history = model.fit(train_set, epochs=50)"
   ]
  },
  {
   "cell_type": "markdown",
   "metadata": {},
   "source": [
    "## Evaluating the forecast\n",
    "\n",
    "Now it is time to evaluate the performance of the forecast. For this you can use the `compute_metrics` function that you coded in a previous assignment:"
   ]
  },
  {
   "cell_type": "code",
   "execution_count": 24,
   "metadata": {
    "deletable": false,
    "editable": false
   },
   "outputs": [],
   "source": [
    "def compute_metrics(true_series, forecast):\n",
    "    \n",
    "    mse = tf.keras.metrics.mean_squared_error(true_series, forecast).numpy()\n",
    "    mae = tf.keras.metrics.mean_absolute_error(true_series, forecast).numpy()\n",
    "\n",
    "    return mse, mae"
   ]
  },
  {
   "cell_type": "markdown",
   "metadata": {},
   "source": [
    "At this point only the model that will perform the forecast is ready but you still need to compute the actual forecast.\n",
    "\n"
   ]
  },
  {
   "cell_type": "markdown",
   "metadata": {},
   "source": [
    "## Faster model forecasts\n",
    "\n",
    "In the previous week you saw a faster approach compared to using a for loop to compute the forecasts for every point in the sequence. Remember that this faster approach uses batches of data. \n",
    "\n",
    "The code to implement this is provided in the `model_forecast` below. Notice that the code is very similar to the one in the `windowed_dataset` function with the differences that:\n",
    "- The dataset is windowed using `window_size` rather than `window_size + 1`\n",
    "- No shuffle should be used\n",
    "- No need to split the data into features and labels\n",
    "- A model is used to predict batches of the dataset"
   ]
  },
  {
   "cell_type": "code",
   "execution_count": 25,
   "metadata": {
    "deletable": false,
    "editable": false,
    "id": "4XwGrf-A_wF0"
   },
   "outputs": [],
   "source": [
    "def model_forecast(model, series, window_size):\n",
    "    ds = tf.data.Dataset.from_tensor_slices(series)\n",
    "    ds = ds.window(window_size, shift=1, drop_remainder=True)\n",
    "    ds = ds.flat_map(lambda w: w.batch(window_size))\n",
    "    ds = ds.batch(32).prefetch(1)\n",
    "    forecast = model.predict(ds)\n",
    "    return forecast"
   ]
  },
  {
   "cell_type": "markdown",
   "metadata": {},
   "source": [
    "Now compute the actual forecast:\n",
    "\n",
    "**Note:** Don't modify the cell below. \n",
    "\n",
    "The grader uses the same slicing to get the forecast so if you change the cell below you risk having issues when submitting your model for grading."
   ]
  },
  {
   "cell_type": "code",
   "execution_count": 26,
   "metadata": {
    "colab": {
     "base_uri": "https://localhost:8080/",
     "height": 389
    },
    "deletable": false,
    "editable": false,
    "id": "PrktQX3hKYex",
    "outputId": "1914662d-6bdd-4e17-8697-8f5a29e89b87"
   },
   "outputs": [
    {
     "data": {
      "image/png": "[encoded data removed]",
      "text/plain": [
       "<Figure size 720x432 with 1 Axes>"
      ]
     },
     "metadata": {
      "needs_background": "light"
     },
     "output_type": "display_data"
    }
   ],
   "source": [
    "# Compute the forecast for all the series\n",
    "rnn_forecast = model_forecast(model, G.SERIES, G.WINDOW_SIZE).squeeze()\n",
    "\n",
    "# Slice the forecast to get only the predictions for the validation set\n",
    "rnn_forecast = rnn_forecast[G.SPLIT_TIME - G.WINDOW_SIZE:-1]\n",
    "\n",
    "# Plot the forecast\n",
    "plt.figure(figsize=(10, 6))\n",
    "plot_series(time_valid, series_valid)\n",
    "plot_series(time_valid, rnn_forecast)"
   ]
  },
  {
   "cell_type": "code",
   "execution_count": 27,
   "metadata": {
    "deletable": false,
    "editable": false
   },
   "outputs": [
    {
     "name": "stdout",
     "output_type": "stream",
     "text": [
      "mse: 5.82, mae: 1.89 for forecast\n"
     ]
    }
   ],
   "source": [
    "mse, mae = compute_metrics(series_valid, rnn_forecast)\n",
    "\n",
    "print(f\"mse: {mse:.2f}, mae: {mae:.2f} for forecast\")"
   ]
  },
  {
   "cell_type": "markdown",
   "metadata": {},
   "source": [
    "**To pass this assignment your forecast should achieve a MSE of 6 or less and a MAE of 2 or less.**\n",
    "\n",
    "- If your forecast didn't achieve this threshold try re-training your model with a different architecture (you will need to re-run both `create_uncompiled_model` and `create_model` functions) or tweaking the optimizer's parameters.\n",
    "\n",
    "\n",
    "- If your forecast did achieve this threshold run the following cell to save the model in the SavedModel format which will be used for grading and after doing so, submit your assigment for grading.\n",
    "\n",
    "\n",
    "- This environment includes a dummy SavedModel directory which contains a dummy model trained for one epoch. **To replace this file with your actual model you need to run the next cell before submitting for grading.**"
   ]
  },
  {
   "cell_type": "code",
   "execution_count": 28,
   "metadata": {
    "deletable": false,
    "editable": false
   },
   "outputs": [
    {
     "name": "stdout",
     "output_type": "stream",
     "text": [
      "INFO:tensorflow:Assets written to: saved_model/my_model/assets\n"
     ]
    },
    {
     "name": "stderr",
     "output_type": "stream",
     "text": [
      "INFO:tensorflow:Assets written to: saved_model/my_model/assets\n"
     ]
    },
    {
     "name": "stdout",
     "output_type": "stream",
     "text": [
      "saved_model/\n",
      "saved_model/my_model/\n",
      "saved_model/my_model/keras_metadata.pb\n",
      "saved_model/my_model/variables/\n",
      "saved_model/my_model/variables/variables.data-00000-of-00001\n",
      "saved_model/my_model/variables/variables.index\n",
      "saved_model/my_model/saved_model.pb\n",
      "saved_model/my_model/assets/\n"
     ]
    }
   ],
   "source": [
    "# Save your model in the SavedModel format\n",
    "model.save('saved_model/my_model')\n",
    "\n",
    "# Compress the directory using tar\n",
    "! tar -czvf saved_model.tar.gz saved_model/"
   ]
  },
  {
   "cell_type": "markdown",
   "metadata": {},
   "source": [
    "**Congratulations on finishing this week's assignment!**\n",
    "\n",
    "You have successfully implemented a neural network capable of forecasting time series leveraging a combination of Tensorflow's layers such as Convolutional and LSTMs! This resulted in a forecast that surpasses all the ones you did previously.\n",
    "\n",
    "**By finishing this assignment you have finished the specialization! Give yourself a pat on the back!!!**"
   ]
  },
  {
   "cell_type": "markdown",
   "metadata": {},
   "source": [
    "<details>\n",
    "  <summary><font size=\"2\" color=\"darkgreen\"><b>Please click here if you want to experiment with any of the non-graded code.</b></font></summary>\n",
    "    <p><i><b>Important Note: Please only do this when you've already passed the assignment to avoid problems with the autograder.</b></i>\n",
    "    <ol>\n",
    "        <li> On the notebook’s menu, click “View” > “Cell Toolbar” > “Edit Metadata”</li>\n",
    "        <li> Hit the “Edit Metadata” button next to the code cell which you want to lock/unlock</li>\n",
    "        <li> Set the attribute value for “editable” to:\n",
    "            <ul>\n",
    "                <li> “true” if you want to unlock it </li>\n",
    "                <li> “false” if you want to lock it </li>\n",
    "            </ul>\n",
    "        </li>\n",
    "        <li> On the notebook’s menu, click “View” > “Cell Toolbar” > “None” </li>\n",
    "    </ol>\n",
    "    <p> Here's a short demo of how to do the steps above: \n",
    "        <br>\n",
    "        <img src=\"https://drive.google.com/uc?export=view&id=14Xy_Mb17CZVgzVAgq7NCjMVBvSae3xO1\" align=\"center\">\n",
    "</details>"
   ]
  }
 ],
 "metadata": {
  "kernelspec": {
   "display_name": "Python 3",
   "language": "python",
   "name": "python3"
  },
  "language_info": {
   "codemirror_mode": {
    "name": "ipython",
    "version": 3
   },
   "file_extension": ".py",
   "mimetype": "text/x-python",
   "name": "python",
   "nbconvert_exporter": "python",
   "pygments_lexer": "ipython3",
   "version": "3.8.8"
  }
 },
 "nbformat": 4,
 "nbformat_minor": 1
}
